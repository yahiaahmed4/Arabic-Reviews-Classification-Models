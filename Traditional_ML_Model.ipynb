{
  "cells": [
    {
      "cell_type": "code",
      "execution_count": 30,
      "metadata": {
        "id": "O0mUCftqa7qj"
      },
      "outputs": [],
      "source": [
        "import re\n",
        "import nltk\n",
        "import numpy as np\n",
        "from sklearn.model_selection import train_test_split\n",
        "from sklearn.svm import LinearSVC\n",
        "from sklearn.ensemble import RandomForestClassifier\n",
        "from sklearn.metrics import accuracy_score, classification_report\n",
        "from nltk.corpus import stopwords\n",
        "from sklearn.linear_model import SGDClassifier\n",
        "from nltk.tokenize import word_tokenize\n",
        "from nltk.stem import WordNetLemmatizer\n",
        "from google.colab import drive\n",
        "import seaborn as sns\n",
        "import matplotlib.pyplot as plt\n",
        "import plotly.express as px\n",
        "import gensim\n",
        "import plotly.graph_objects as go\n",
        "from plotly.offline import init_notebook_mode, iplot\n",
        "from sklearn.metrics import confusion_matrix\n",
        "from sklearn.metrics import classification_report, roc_curve, f1_score, accuracy_score, recall_score, roc_auc_score, make_scorer\n",
        "from sklearn.model_selection import cross_val_score, GridSearchCV\n",
        "from sklearn.ensemble import RandomForestClassifier, GradientBoostingClassifier\n",
        "from sklearn.metrics import confusion_matrix, mean_squared_error, precision_score, recall_score, f1_score"
      ]
    },
    {
      "cell_type": "code",
      "execution_count": 2,
      "metadata": {
        "colab": {
          "base_uri": "https://localhost:8080/"
        },
        "id": "5LbqzIvY1R0Y",
        "outputId": "474ccd04-dec3-4a41-857a-cc076c66be68"
      },
      "outputs": [
        {
          "name": "stdout",
          "output_type": "stream",
          "text": [
            "Mounted at /content/drive\n"
          ]
        },
        {
          "data": {
            "text/plain": [
              "(99999, 2)"
            ]
          },
          "execution_count": 2,
          "metadata": {},
          "output_type": "execute_result"
        }
      ],
      "source": [
        "drive.mount('/content/drive')\n",
        "df = pd.read_csv('/content/drive/MyDrive/Dataset.tsv', sep='\\t')\n",
        "df.shape"
      ]
    },
    {
      "cell_type": "code",
      "execution_count": 3,
      "metadata": {
        "colab": {
          "base_uri": "https://localhost:8080/",
          "height": 363
        },
        "id": "38fyTHgF2I_o",
        "outputId": "a3cf47dc-c0bf-46e3-e4b8-1645bf0a112e"
      },
      "outputs": [
        {
          "data": {
            "text/html": [
              "\n",
              "  <div id=\"df-8fe044e1-af2a-4d79-922c-0d0555f5465a\" class=\"colab-df-container\">\n",
              "    <div>\n",
              "<style scoped>\n",
              "    .dataframe tbody tr th:only-of-type {\n",
              "        vertical-align: middle;\n",
              "    }\n",
              "\n",
              "    .dataframe tbody tr th {\n",
              "        vertical-align: top;\n",
              "    }\n",
              "\n",
              "    .dataframe thead th {\n",
              "        text-align: right;\n",
              "    }\n",
              "</style>\n",
              "<table border=\"1\" class=\"dataframe\">\n",
              "  <thead>\n",
              "    <tr style=\"text-align: right;\">\n",
              "      <th></th>\n",
              "      <th>label</th>\n",
              "      <th>text</th>\n",
              "    </tr>\n",
              "  </thead>\n",
              "  <tbody>\n",
              "    <tr>\n",
              "      <th>0</th>\n",
              "      <td>Positive</td>\n",
              "      <td>ممتاز نوعا ما . النظافة والموقع والتجهيز والشا...</td>\n",
              "    </tr>\n",
              "    <tr>\n",
              "      <th>1</th>\n",
              "      <td>Positive</td>\n",
              "      <td>أحد أسباب نجاح الإمارات أن كل شخص في هذه الدول...</td>\n",
              "    </tr>\n",
              "    <tr>\n",
              "      <th>2</th>\n",
              "      <td>Positive</td>\n",
              "      <td>هادفة .. وقوية. تنقلك من صخب شوارع القاهرة الى...</td>\n",
              "    </tr>\n",
              "    <tr>\n",
              "      <th>3</th>\n",
              "      <td>Positive</td>\n",
              "      <td>خلصنا .. مبدئيا اللي مستني ابهار زي الفيل الاز...</td>\n",
              "    </tr>\n",
              "    <tr>\n",
              "      <th>4</th>\n",
              "      <td>Positive</td>\n",
              "      <td>ياسات جلوريا جزء لا يتجزأ من دبي . فندق متكامل...</td>\n",
              "    </tr>\n",
              "    <tr>\n",
              "      <th>5</th>\n",
              "      <td>Positive</td>\n",
              "      <td>أسلوب الكاتب رائع جدا و عميق جدا، قرأته عدة مر...</td>\n",
              "    </tr>\n",
              "    <tr>\n",
              "      <th>6</th>\n",
              "      <td>Positive</td>\n",
              "      <td>استثنائي. الهدوء في الجناح مع مسبح. عدم وجود ع...</td>\n",
              "    </tr>\n",
              "    <tr>\n",
              "      <th>7</th>\n",
              "      <td>Positive</td>\n",
              "      <td>الكتاب هو السيرة الذاتية للحداثة في المملكة بل...</td>\n",
              "    </tr>\n",
              "    <tr>\n",
              "      <th>8</th>\n",
              "      <td>Positive</td>\n",
              "      <td>من أجمل ما قرأت.. رواية تستحق القراءة فعلا..</td>\n",
              "    </tr>\n",
              "    <tr>\n",
              "      <th>9</th>\n",
              "      <td>Positive</td>\n",
              "      <td>بشكل عام جيده .. . التجاوب جيد جدا من قبل موظف...</td>\n",
              "    </tr>\n",
              "  </tbody>\n",
              "</table>\n",
              "</div>\n",
              "    <div class=\"colab-df-buttons\">\n",
              "\n",
              "  <div class=\"colab-df-container\">\n",
              "    <button class=\"colab-df-convert\" onclick=\"convertToInteractive('df-8fe044e1-af2a-4d79-922c-0d0555f5465a')\"\n",
              "            title=\"Convert this dataframe to an interactive table.\"\n",
              "            style=\"display:none;\">\n",
              "\n",
              "  <svg xmlns=\"http://www.w3.org/2000/svg\" height=\"24px\" viewBox=\"0 -960 960 960\">\n",
              "    <path d=\"M120-120v-720h720v720H120Zm60-500h600v-160H180v160Zm220 220h160v-160H400v160Zm0 220h160v-160H400v160ZM180-400h160v-160H180v160Zm440 0h160v-160H620v160ZM180-180h160v-160H180v160Zm440 0h160v-160H620v160Z\"/>\n",
              "  </svg>\n",
              "    </button>\n",
              "\n",
              "  <style>\n",
              "    .colab-df-container {\n",
              "      display:flex;\n",
              "      gap: 12px;\n",
              "    }\n",
              "\n",
              "    .colab-df-convert {\n",
              "      background-color: #E8F0FE;\n",
              "      border: none;\n",
              "      border-radius: 50%;\n",
              "      cursor: pointer;\n",
              "      display: none;\n",
              "      fill: #1967D2;\n",
              "      height: 32px;\n",
              "      padding: 0 0 0 0;\n",
              "      width: 32px;\n",
              "    }\n",
              "\n",
              "    .colab-df-convert:hover {\n",
              "      background-color: #E2EBFA;\n",
              "      box-shadow: 0px 1px 2px rgba(60, 64, 67, 0.3), 0px 1px 3px 1px rgba(60, 64, 67, 0.15);\n",
              "      fill: #174EA6;\n",
              "    }\n",
              "\n",
              "    .colab-df-buttons div {\n",
              "      margin-bottom: 4px;\n",
              "    }\n",
              "\n",
              "    [theme=dark] .colab-df-convert {\n",
              "      background-color: #3B4455;\n",
              "      fill: #D2E3FC;\n",
              "    }\n",
              "\n",
              "    [theme=dark] .colab-df-convert:hover {\n",
              "      background-color: #434B5C;\n",
              "      box-shadow: 0px 1px 3px 1px rgba(0, 0, 0, 0.15);\n",
              "      filter: drop-shadow(0px 1px 2px rgba(0, 0, 0, 0.3));\n",
              "      fill: #FFFFFF;\n",
              "    }\n",
              "  </style>\n",
              "\n",
              "    <script>\n",
              "      const buttonEl =\n",
              "        document.querySelector('#df-8fe044e1-af2a-4d79-922c-0d0555f5465a button.colab-df-convert');\n",
              "      buttonEl.style.display =\n",
              "        google.colab.kernel.accessAllowed ? 'block' : 'none';\n",
              "\n",
              "      async function convertToInteractive(key) {\n",
              "        const element = document.querySelector('#df-8fe044e1-af2a-4d79-922c-0d0555f5465a');\n",
              "        const dataTable =\n",
              "          await google.colab.kernel.invokeFunction('convertToInteractive',\n",
              "                                                    [key], {});\n",
              "        if (!dataTable) return;\n",
              "\n",
              "        const docLinkHtml = 'Like what you see? Visit the ' +\n",
              "          '<a target=\"_blank\" href=https://colab.research.google.com/notebooks/data_table.ipynb>data table notebook</a>'\n",
              "          + ' to learn more about interactive tables.';\n",
              "        element.innerHTML = '';\n",
              "        dataTable['output_type'] = 'display_data';\n",
              "        await google.colab.output.renderOutput(dataTable, element);\n",
              "        const docLink = document.createElement('div');\n",
              "        docLink.innerHTML = docLinkHtml;\n",
              "        element.appendChild(docLink);\n",
              "      }\n",
              "    </script>\n",
              "  </div>\n",
              "\n",
              "\n",
              "<div id=\"df-782e1521-10b8-455c-9ab1-79cce0133826\">\n",
              "  <button class=\"colab-df-quickchart\" onclick=\"quickchart('df-782e1521-10b8-455c-9ab1-79cce0133826')\"\n",
              "            title=\"Suggest charts.\"\n",
              "            style=\"display:none;\">\n",
              "\n",
              "<svg xmlns=\"http://www.w3.org/2000/svg\" height=\"24px\"viewBox=\"0 0 24 24\"\n",
              "     width=\"24px\">\n",
              "    <g>\n",
              "        <path d=\"M19 3H5c-1.1 0-2 .9-2 2v14c0 1.1.9 2 2 2h14c1.1 0 2-.9 2-2V5c0-1.1-.9-2-2-2zM9 17H7v-7h2v7zm4 0h-2V7h2v10zm4 0h-2v-4h2v4z\"/>\n",
              "    </g>\n",
              "</svg>\n",
              "  </button>\n",
              "\n",
              "<style>\n",
              "  .colab-df-quickchart {\n",
              "      --bg-color: #E8F0FE;\n",
              "      --fill-color: #1967D2;\n",
              "      --hover-bg-color: #E2EBFA;\n",
              "      --hover-fill-color: #174EA6;\n",
              "      --disabled-fill-color: #AAA;\n",
              "      --disabled-bg-color: #DDD;\n",
              "  }\n",
              "\n",
              "  [theme=dark] .colab-df-quickchart {\n",
              "      --bg-color: #3B4455;\n",
              "      --fill-color: #D2E3FC;\n",
              "      --hover-bg-color: #434B5C;\n",
              "      --hover-fill-color: #FFFFFF;\n",
              "      --disabled-bg-color: #3B4455;\n",
              "      --disabled-fill-color: #666;\n",
              "  }\n",
              "\n",
              "  .colab-df-quickchart {\n",
              "    background-color: var(--bg-color);\n",
              "    border: none;\n",
              "    border-radius: 50%;\n",
              "    cursor: pointer;\n",
              "    display: none;\n",
              "    fill: var(--fill-color);\n",
              "    height: 32px;\n",
              "    padding: 0;\n",
              "    width: 32px;\n",
              "  }\n",
              "\n",
              "  .colab-df-quickchart:hover {\n",
              "    background-color: var(--hover-bg-color);\n",
              "    box-shadow: 0 1px 2px rgba(60, 64, 67, 0.3), 0 1px 3px 1px rgba(60, 64, 67, 0.15);\n",
              "    fill: var(--button-hover-fill-color);\n",
              "  }\n",
              "\n",
              "  .colab-df-quickchart-complete:disabled,\n",
              "  .colab-df-quickchart-complete:disabled:hover {\n",
              "    background-color: var(--disabled-bg-color);\n",
              "    fill: var(--disabled-fill-color);\n",
              "    box-shadow: none;\n",
              "  }\n",
              "\n",
              "  .colab-df-spinner {\n",
              "    border: 2px solid var(--fill-color);\n",
              "    border-color: transparent;\n",
              "    border-bottom-color: var(--fill-color);\n",
              "    animation:\n",
              "      spin 1s steps(1) infinite;\n",
              "  }\n",
              "\n",
              "  @keyframes spin {\n",
              "    0% {\n",
              "      border-color: transparent;\n",
              "      border-bottom-color: var(--fill-color);\n",
              "      border-left-color: var(--fill-color);\n",
              "    }\n",
              "    20% {\n",
              "      border-color: transparent;\n",
              "      border-left-color: var(--fill-color);\n",
              "      border-top-color: var(--fill-color);\n",
              "    }\n",
              "    30% {\n",
              "      border-color: transparent;\n",
              "      border-left-color: var(--fill-color);\n",
              "      border-top-color: var(--fill-color);\n",
              "      border-right-color: var(--fill-color);\n",
              "    }\n",
              "    40% {\n",
              "      border-color: transparent;\n",
              "      border-right-color: var(--fill-color);\n",
              "      border-top-color: var(--fill-color);\n",
              "    }\n",
              "    60% {\n",
              "      border-color: transparent;\n",
              "      border-right-color: var(--fill-color);\n",
              "    }\n",
              "    80% {\n",
              "      border-color: transparent;\n",
              "      border-right-color: var(--fill-color);\n",
              "      border-bottom-color: var(--fill-color);\n",
              "    }\n",
              "    90% {\n",
              "      border-color: transparent;\n",
              "      border-bottom-color: var(--fill-color);\n",
              "    }\n",
              "  }\n",
              "</style>\n",
              "\n",
              "  <script>\n",
              "    async function quickchart(key) {\n",
              "      const quickchartButtonEl =\n",
              "        document.querySelector('#' + key + ' button');\n",
              "      quickchartButtonEl.disabled = true;  // To prevent multiple clicks.\n",
              "      quickchartButtonEl.classList.add('colab-df-spinner');\n",
              "      try {\n",
              "        const charts = await google.colab.kernel.invokeFunction(\n",
              "            'suggestCharts', [key], {});\n",
              "      } catch (error) {\n",
              "        console.error('Error during call to suggestCharts:', error);\n",
              "      }\n",
              "      quickchartButtonEl.classList.remove('colab-df-spinner');\n",
              "      quickchartButtonEl.classList.add('colab-df-quickchart-complete');\n",
              "    }\n",
              "    (() => {\n",
              "      let quickchartButtonEl =\n",
              "        document.querySelector('#df-782e1521-10b8-455c-9ab1-79cce0133826 button');\n",
              "      quickchartButtonEl.style.display =\n",
              "        google.colab.kernel.accessAllowed ? 'block' : 'none';\n",
              "    })();\n",
              "  </script>\n",
              "</div>\n",
              "    </div>\n",
              "  </div>\n"
            ],
            "text/plain": [
              "      label                                               text\n",
              "0  Positive  ممتاز نوعا ما . النظافة والموقع والتجهيز والشا...\n",
              "1  Positive  أحد أسباب نجاح الإمارات أن كل شخص في هذه الدول...\n",
              "2  Positive  هادفة .. وقوية. تنقلك من صخب شوارع القاهرة الى...\n",
              "3  Positive  خلصنا .. مبدئيا اللي مستني ابهار زي الفيل الاز...\n",
              "4  Positive  ياسات جلوريا جزء لا يتجزأ من دبي . فندق متكامل...\n",
              "5  Positive  أسلوب الكاتب رائع جدا و عميق جدا، قرأته عدة مر...\n",
              "6  Positive  استثنائي. الهدوء في الجناح مع مسبح. عدم وجود ع...\n",
              "7  Positive  الكتاب هو السيرة الذاتية للحداثة في المملكة بل...\n",
              "8  Positive       من أجمل ما قرأت.. رواية تستحق القراءة فعلا..\n",
              "9  Positive  بشكل عام جيده .. . التجاوب جيد جدا من قبل موظف..."
            ]
          },
          "execution_count": 3,
          "metadata": {},
          "output_type": "execute_result"
        }
      ],
      "source": [
        "df.head(10)"
      ]
    },
    {
      "cell_type": "code",
      "execution_count": 4,
      "metadata": {
        "colab": {
          "base_uri": "https://localhost:8080/"
        },
        "id": "e_iz5IpP2jeq",
        "outputId": "03f348f2-242a-4a1c-9507-3083ca34b533"
      },
      "outputs": [
        {
          "data": {
            "text/plain": [
              "Positive    33333\n",
              "Mixed       33333\n",
              "Negative    33333\n",
              "Name: label, dtype: int64"
            ]
          },
          "execution_count": 4,
          "metadata": {},
          "output_type": "execute_result"
        }
      ],
      "source": [
        "df['label'].value_counts()"
      ]
    },
    {
      "cell_type": "code",
      "execution_count": 5,
      "metadata": {
        "id": "vr2gQltg2xML"
      },
      "outputs": [],
      "source": [
        "df['label_id'] = df['label'].map({'Negative': 0, 'Positive': 1 , 'Mixed': 2})"
      ]
    },
    {
      "cell_type": "code",
      "execution_count": 6,
      "metadata": {
        "colab": {
          "base_uri": "https://localhost:8080/",
          "height": 363
        },
        "id": "0TO8_uHx3KY8",
        "outputId": "cfcc3f3f-7671-4a78-ebb2-24bce332335f"
      },
      "outputs": [
        {
          "data": {
            "text/html": [
              "\n",
              "  <div id=\"df-0e6f242f-2fc3-43e8-b1db-e9d146d8ff00\" class=\"colab-df-container\">\n",
              "    <div>\n",
              "<style scoped>\n",
              "    .dataframe tbody tr th:only-of-type {\n",
              "        vertical-align: middle;\n",
              "    }\n",
              "\n",
              "    .dataframe tbody tr th {\n",
              "        vertical-align: top;\n",
              "    }\n",
              "\n",
              "    .dataframe thead th {\n",
              "        text-align: right;\n",
              "    }\n",
              "</style>\n",
              "<table border=\"1\" class=\"dataframe\">\n",
              "  <thead>\n",
              "    <tr style=\"text-align: right;\">\n",
              "      <th></th>\n",
              "      <th>label</th>\n",
              "      <th>text</th>\n",
              "      <th>label_id</th>\n",
              "    </tr>\n",
              "  </thead>\n",
              "  <tbody>\n",
              "    <tr>\n",
              "      <th>70000</th>\n",
              "      <td>Negative</td>\n",
              "      <td>السجينة،،تعجبني جدا الروايات المقتبسة من قصص و...</td>\n",
              "      <td>0</td>\n",
              "    </tr>\n",
              "    <tr>\n",
              "      <th>70001</th>\n",
              "      <td>Negative</td>\n",
              "      <td>كفايه عليها نجمه واحده بقى. النجمه بتوفى بممكن...</td>\n",
              "      <td>0</td>\n",
              "    </tr>\n",
              "    <tr>\n",
              "      <th>70002</th>\n",
              "      <td>Negative</td>\n",
              "      <td>الحاجه اللى تضايق ان الرواية كانت ممكن تكون اف...</td>\n",
              "      <td>0</td>\n",
              "    </tr>\n",
              "    <tr>\n",
              "      <th>70003</th>\n",
              "      <td>Negative</td>\n",
              "      <td>الحمد لله رب العالمين. تلك الأيام وفتحى غانم ا...</td>\n",
              "      <td>0</td>\n",
              "    </tr>\n",
              "    <tr>\n",
              "      <th>70004</th>\n",
              "      <td>Negative</td>\n",
              "      <td>كتاب خفبف و مسلى و يتقرأ فى ساعه</td>\n",
              "      <td>0</td>\n",
              "    </tr>\n",
              "    <tr>\n",
              "      <th>70005</th>\n",
              "      <td>Negative</td>\n",
              "      <td>اسلوب احلام جميل كالعاده برومانسيتها وتصويرها ...</td>\n",
              "      <td>0</td>\n",
              "    </tr>\n",
              "    <tr>\n",
              "      <th>70006</th>\n",
              "      <td>Negative</td>\n",
              "      <td>قراتى للكتاب مجرد فضول منى وقولت اضحك شوية تغي...</td>\n",
              "      <td>0</td>\n",
              "    </tr>\n",
              "    <tr>\n",
              "      <th>70007</th>\n",
              "      <td>Negative</td>\n",
              "      <td>أفتقدت نزار في هذا الديوان</td>\n",
              "      <td>0</td>\n",
              "    </tr>\n",
              "    <tr>\n",
              "      <th>70008</th>\n",
              "      <td>Negative</td>\n",
              "      <td>بكره أحمد مراد</td>\n",
              "      <td>0</td>\n",
              "    </tr>\n",
              "    <tr>\n",
              "      <th>70009</th>\n",
              "      <td>Negative</td>\n",
              "      <td>هذه الرواية جميلة في اسلوبها تتنقل بين الغزل ا...</td>\n",
              "      <td>0</td>\n",
              "    </tr>\n",
              "  </tbody>\n",
              "</table>\n",
              "</div>\n",
              "    <div class=\"colab-df-buttons\">\n",
              "\n",
              "  <div class=\"colab-df-container\">\n",
              "    <button class=\"colab-df-convert\" onclick=\"convertToInteractive('df-0e6f242f-2fc3-43e8-b1db-e9d146d8ff00')\"\n",
              "            title=\"Convert this dataframe to an interactive table.\"\n",
              "            style=\"display:none;\">\n",
              "\n",
              "  <svg xmlns=\"http://www.w3.org/2000/svg\" height=\"24px\" viewBox=\"0 -960 960 960\">\n",
              "    <path d=\"M120-120v-720h720v720H120Zm60-500h600v-160H180v160Zm220 220h160v-160H400v160Zm0 220h160v-160H400v160ZM180-400h160v-160H180v160Zm440 0h160v-160H620v160ZM180-180h160v-160H180v160Zm440 0h160v-160H620v160Z\"/>\n",
              "  </svg>\n",
              "    </button>\n",
              "\n",
              "  <style>\n",
              "    .colab-df-container {\n",
              "      display:flex;\n",
              "      gap: 12px;\n",
              "    }\n",
              "\n",
              "    .colab-df-convert {\n",
              "      background-color: #E8F0FE;\n",
              "      border: none;\n",
              "      border-radius: 50%;\n",
              "      cursor: pointer;\n",
              "      display: none;\n",
              "      fill: #1967D2;\n",
              "      height: 32px;\n",
              "      padding: 0 0 0 0;\n",
              "      width: 32px;\n",
              "    }\n",
              "\n",
              "    .colab-df-convert:hover {\n",
              "      background-color: #E2EBFA;\n",
              "      box-shadow: 0px 1px 2px rgba(60, 64, 67, 0.3), 0px 1px 3px 1px rgba(60, 64, 67, 0.15);\n",
              "      fill: #174EA6;\n",
              "    }\n",
              "\n",
              "    .colab-df-buttons div {\n",
              "      margin-bottom: 4px;\n",
              "    }\n",
              "\n",
              "    [theme=dark] .colab-df-convert {\n",
              "      background-color: #3B4455;\n",
              "      fill: #D2E3FC;\n",
              "    }\n",
              "\n",
              "    [theme=dark] .colab-df-convert:hover {\n",
              "      background-color: #434B5C;\n",
              "      box-shadow: 0px 1px 3px 1px rgba(0, 0, 0, 0.15);\n",
              "      filter: drop-shadow(0px 1px 2px rgba(0, 0, 0, 0.3));\n",
              "      fill: #FFFFFF;\n",
              "    }\n",
              "  </style>\n",
              "\n",
              "    <script>\n",
              "      const buttonEl =\n",
              "        document.querySelector('#df-0e6f242f-2fc3-43e8-b1db-e9d146d8ff00 button.colab-df-convert');\n",
              "      buttonEl.style.display =\n",
              "        google.colab.kernel.accessAllowed ? 'block' : 'none';\n",
              "\n",
              "      async function convertToInteractive(key) {\n",
              "        const element = document.querySelector('#df-0e6f242f-2fc3-43e8-b1db-e9d146d8ff00');\n",
              "        const dataTable =\n",
              "          await google.colab.kernel.invokeFunction('convertToInteractive',\n",
              "                                                    [key], {});\n",
              "        if (!dataTable) return;\n",
              "\n",
              "        const docLinkHtml = 'Like what you see? Visit the ' +\n",
              "          '<a target=\"_blank\" href=https://colab.research.google.com/notebooks/data_table.ipynb>data table notebook</a>'\n",
              "          + ' to learn more about interactive tables.';\n",
              "        element.innerHTML = '';\n",
              "        dataTable['output_type'] = 'display_data';\n",
              "        await google.colab.output.renderOutput(dataTable, element);\n",
              "        const docLink = document.createElement('div');\n",
              "        docLink.innerHTML = docLinkHtml;\n",
              "        element.appendChild(docLink);\n",
              "      }\n",
              "    </script>\n",
              "  </div>\n",
              "\n",
              "\n",
              "<div id=\"df-a299a65a-240e-4cce-b93e-0cb55916414a\">\n",
              "  <button class=\"colab-df-quickchart\" onclick=\"quickchart('df-a299a65a-240e-4cce-b93e-0cb55916414a')\"\n",
              "            title=\"Suggest charts.\"\n",
              "            style=\"display:none;\">\n",
              "\n",
              "<svg xmlns=\"http://www.w3.org/2000/svg\" height=\"24px\"viewBox=\"0 0 24 24\"\n",
              "     width=\"24px\">\n",
              "    <g>\n",
              "        <path d=\"M19 3H5c-1.1 0-2 .9-2 2v14c0 1.1.9 2 2 2h14c1.1 0 2-.9 2-2V5c0-1.1-.9-2-2-2zM9 17H7v-7h2v7zm4 0h-2V7h2v10zm4 0h-2v-4h2v4z\"/>\n",
              "    </g>\n",
              "</svg>\n",
              "  </button>\n",
              "\n",
              "<style>\n",
              "  .colab-df-quickchart {\n",
              "      --bg-color: #E8F0FE;\n",
              "      --fill-color: #1967D2;\n",
              "      --hover-bg-color: #E2EBFA;\n",
              "      --hover-fill-color: #174EA6;\n",
              "      --disabled-fill-color: #AAA;\n",
              "      --disabled-bg-color: #DDD;\n",
              "  }\n",
              "\n",
              "  [theme=dark] .colab-df-quickchart {\n",
              "      --bg-color: #3B4455;\n",
              "      --fill-color: #D2E3FC;\n",
              "      --hover-bg-color: #434B5C;\n",
              "      --hover-fill-color: #FFFFFF;\n",
              "      --disabled-bg-color: #3B4455;\n",
              "      --disabled-fill-color: #666;\n",
              "  }\n",
              "\n",
              "  .colab-df-quickchart {\n",
              "    background-color: var(--bg-color);\n",
              "    border: none;\n",
              "    border-radius: 50%;\n",
              "    cursor: pointer;\n",
              "    display: none;\n",
              "    fill: var(--fill-color);\n",
              "    height: 32px;\n",
              "    padding: 0;\n",
              "    width: 32px;\n",
              "  }\n",
              "\n",
              "  .colab-df-quickchart:hover {\n",
              "    background-color: var(--hover-bg-color);\n",
              "    box-shadow: 0 1px 2px rgba(60, 64, 67, 0.3), 0 1px 3px 1px rgba(60, 64, 67, 0.15);\n",
              "    fill: var(--button-hover-fill-color);\n",
              "  }\n",
              "\n",
              "  .colab-df-quickchart-complete:disabled,\n",
              "  .colab-df-quickchart-complete:disabled:hover {\n",
              "    background-color: var(--disabled-bg-color);\n",
              "    fill: var(--disabled-fill-color);\n",
              "    box-shadow: none;\n",
              "  }\n",
              "\n",
              "  .colab-df-spinner {\n",
              "    border: 2px solid var(--fill-color);\n",
              "    border-color: transparent;\n",
              "    border-bottom-color: var(--fill-color);\n",
              "    animation:\n",
              "      spin 1s steps(1) infinite;\n",
              "  }\n",
              "\n",
              "  @keyframes spin {\n",
              "    0% {\n",
              "      border-color: transparent;\n",
              "      border-bottom-color: var(--fill-color);\n",
              "      border-left-color: var(--fill-color);\n",
              "    }\n",
              "    20% {\n",
              "      border-color: transparent;\n",
              "      border-left-color: var(--fill-color);\n",
              "      border-top-color: var(--fill-color);\n",
              "    }\n",
              "    30% {\n",
              "      border-color: transparent;\n",
              "      border-left-color: var(--fill-color);\n",
              "      border-top-color: var(--fill-color);\n",
              "      border-right-color: var(--fill-color);\n",
              "    }\n",
              "    40% {\n",
              "      border-color: transparent;\n",
              "      border-right-color: var(--fill-color);\n",
              "      border-top-color: var(--fill-color);\n",
              "    }\n",
              "    60% {\n",
              "      border-color: transparent;\n",
              "      border-right-color: var(--fill-color);\n",
              "    }\n",
              "    80% {\n",
              "      border-color: transparent;\n",
              "      border-right-color: var(--fill-color);\n",
              "      border-bottom-color: var(--fill-color);\n",
              "    }\n",
              "    90% {\n",
              "      border-color: transparent;\n",
              "      border-bottom-color: var(--fill-color);\n",
              "    }\n",
              "  }\n",
              "</style>\n",
              "\n",
              "  <script>\n",
              "    async function quickchart(key) {\n",
              "      const quickchartButtonEl =\n",
              "        document.querySelector('#' + key + ' button');\n",
              "      quickchartButtonEl.disabled = true;  // To prevent multiple clicks.\n",
              "      quickchartButtonEl.classList.add('colab-df-spinner');\n",
              "      try {\n",
              "        const charts = await google.colab.kernel.invokeFunction(\n",
              "            'suggestCharts', [key], {});\n",
              "      } catch (error) {\n",
              "        console.error('Error during call to suggestCharts:', error);\n",
              "      }\n",
              "      quickchartButtonEl.classList.remove('colab-df-spinner');\n",
              "      quickchartButtonEl.classList.add('colab-df-quickchart-complete');\n",
              "    }\n",
              "    (() => {\n",
              "      let quickchartButtonEl =\n",
              "        document.querySelector('#df-a299a65a-240e-4cce-b93e-0cb55916414a button');\n",
              "      quickchartButtonEl.style.display =\n",
              "        google.colab.kernel.accessAllowed ? 'block' : 'none';\n",
              "    })();\n",
              "  </script>\n",
              "</div>\n",
              "    </div>\n",
              "  </div>\n"
            ],
            "text/plain": [
              "          label                                               text  label_id\n",
              "70000  Negative  السجينة،،تعجبني جدا الروايات المقتبسة من قصص و...         0\n",
              "70001  Negative  كفايه عليها نجمه واحده بقى. النجمه بتوفى بممكن...         0\n",
              "70002  Negative  الحاجه اللى تضايق ان الرواية كانت ممكن تكون اف...         0\n",
              "70003  Negative  الحمد لله رب العالمين. تلك الأيام وفتحى غانم ا...         0\n",
              "70004  Negative                   كتاب خفبف و مسلى و يتقرأ فى ساعه         0\n",
              "70005  Negative  اسلوب احلام جميل كالعاده برومانسيتها وتصويرها ...         0\n",
              "70006  Negative  قراتى للكتاب مجرد فضول منى وقولت اضحك شوية تغي...         0\n",
              "70007  Negative                         أفتقدت نزار في هذا الديوان         0\n",
              "70008  Negative                                     بكره أحمد مراد         0\n",
              "70009  Negative  هذه الرواية جميلة في اسلوبها تتنقل بين الغزل ا...         0"
            ]
          },
          "execution_count": 6,
          "metadata": {},
          "output_type": "execute_result"
        }
      ],
      "source": [
        "df.iloc[70000:70010]"
      ]
    },
    {
      "cell_type": "code",
      "execution_count": 7,
      "metadata": {
        "colab": {
          "base_uri": "https://localhost:8080/"
        },
        "id": "uMFP6tqj3OaD",
        "outputId": "dca53496-c741-4ab4-e470-d7b4784348e4"
      },
      "outputs": [
        {
          "data": {
            "text/plain": [
              "Positive    33333\n",
              "Mixed       33333\n",
              "Negative    33333\n",
              "Name: label, dtype: int64"
            ]
          },
          "execution_count": 7,
          "metadata": {},
          "output_type": "execute_result"
        }
      ],
      "source": [
        "df['label'].value_counts()"
      ]
    },
    {
      "cell_type": "code",
      "execution_count": 8,
      "metadata": {
        "colab": {
          "base_uri": "https://localhost:8080/"
        },
        "id": "QppW9Rx5br8Y",
        "outputId": "97d0773a-2f44-4778-8cc8-806634a46e5b"
      },
      "outputs": [
        {
          "name": "stdout",
          "output_type": "stream",
          "text": [
            "--2023-10-26 07:42:48--  https://bakrianoo.ewr1.vultrobjects.com/aravec/full_grams_cbow_300_twitter.zip\n",
            "Resolving bakrianoo.ewr1.vultrobjects.com (bakrianoo.ewr1.vultrobjects.com)... 108.61.0.122, 2001:19f0:0:22::100\n",
            "Connecting to bakrianoo.ewr1.vultrobjects.com (bakrianoo.ewr1.vultrobjects.com)|108.61.0.122|:443... connected.\n",
            "HTTP request sent, awaiting response... 200 OK\n",
            "Length: 3325529808 (3.1G) [application/zip]\n",
            "Saving to: ‘full_grams_cbow_300_twitter.zip’\n",
            "\n",
            "full_grams_cbow_300 100%[===================>]   3.10G   132MB/s    in 30s     \n",
            "\n",
            "2023-10-26 07:43:18 (105 MB/s) - ‘full_grams_cbow_300_twitter.zip’ saved [3325529808/3325529808]\n",
            "\n",
            "Archive:  full_grams_cbow_300_twitter.zip\n",
            "  inflating: full_grams_cbow_300_twitter.mdl  \n",
            "  inflating: full_grams_cbow_300_twitter.mdl.trainables.syn1neg.npy  \n",
            "  inflating: full_grams_cbow_300_twitter.mdl.wv.vectors.npy  \n"
          ]
        }
      ],
      "source": [
        "# Download via terminal commands\n",
        "!wget \"https://bakrianoo.ewr1.vultrobjects.com/aravec/full_grams_cbow_300_twitter.zip\"\n",
        "!unzip \"full_grams_cbow_300_twitter.zip\""
      ]
    },
    {
      "cell_type": "code",
      "execution_count": 9,
      "metadata": {
        "id": "2h5jJ1XCbh8B"
      },
      "outputs": [],
      "source": [
        "modelCBow = gensim.models.Word2Vec.load(\"full_grams_cbow_300_twitter.mdl\")"
      ]
    },
    {
      "cell_type": "code",
      "execution_count": 10,
      "metadata": {
        "id": "5NKiQGCk7dq4"
      },
      "outputs": [],
      "source": [
        "# Clean/Normalize Arabic Text\n",
        "def clean_str(text):\n",
        "    search = [\"أ\",\"إ\",\"آ\",\"ة\",\"_\",\"-\",\"/\",\".\",\"،\",\" و \",\" يا \",'\"',\"ـ\",\"'\",\"ى\",\"\\\\\",'\\n', '\\t','&quot;','?','؟','!']\n",
        "    replace = [\"ا\",\"ا\",\"ا\",\"ه\",\" \",\" \",\"\",\"\",\"\",\" و\",\" يا\",\"\",\"\",\"\",\"ي\",\"\",' ', ' ',' ',' ? ',' ؟ ',' ! ']\n",
        "\n",
        "    #remove tashkeel\n",
        "    p_tashkeel = re.compile(r'[\\u0617-\\u061A\\u064B-\\u0652]')\n",
        "    text = re.sub(p_tashkeel,\"\", text)\n",
        "\n",
        "    #remove longation\n",
        "    p_longation = re.compile(r'(.)\\1+')\n",
        "    subst = r\"\\1\\1\"\n",
        "    text = re.sub(p_longation, subst, text)\n",
        "\n",
        "    text = text.replace('وو', 'و')\n",
        "    text = text.replace('يي', 'ي')\n",
        "    text = text.replace('اا', 'ا')\n",
        "\n",
        "    for i in range(0, len(search)):\n",
        "        text = text.replace(search[i], replace[i])\n",
        "\n",
        "    #trim\n",
        "    text = text.strip()\n",
        "\n",
        "    return text"
      ]
    },
    {
      "cell_type": "code",
      "execution_count": 11,
      "metadata": {
        "colab": {
          "base_uri": "https://localhost:8080/"
        },
        "id": "0EXrGn4z-hb7",
        "outputId": "e525bfd0-daf1-4b47-d6d3-2bf06ee78468"
      },
      "outputs": [
        {
          "name": "stderr",
          "output_type": "stream",
          "text": [
            "[nltk_data] Downloading package punkt to /root/nltk_data...\n",
            "[nltk_data]   Unzipping tokenizers/punkt.zip.\n",
            "[nltk_data] Downloading package wordnet to /root/nltk_data...\n",
            "[nltk_data] Downloading package stopwords to /root/nltk_data...\n",
            "[nltk_data]   Unzipping corpora/stopwords.zip.\n"
          ]
        },
        {
          "data": {
            "text/plain": [
              "True"
            ]
          },
          "execution_count": 11,
          "metadata": {},
          "output_type": "execute_result"
        }
      ],
      "source": [
        "nltk.download('punkt')\n",
        "nltk.download('wordnet')\n",
        "nltk.download('stopwords')"
      ]
    },
    {
      "cell_type": "code",
      "execution_count": 12,
      "metadata": {
        "id": "uZxXtcLyBtY4"
      },
      "outputs": [],
      "source": [
        "arabic_stop_words = set(stopwords.words('arabic'))"
      ]
    },
    {
      "cell_type": "code",
      "execution_count": 13,
      "metadata": {
        "id": "w9b3YWIYB4On"
      },
      "outputs": [],
      "source": [
        "def preprocess_and_vectorize(text):\n",
        "  # Remove Stop words and Lemmatize each word\n",
        "  words = word_tokenize(clean_str(text))\n",
        "\n",
        "  filtered_sentence = []\n",
        "\n",
        "  for word in words:\n",
        "      if word not in arabic_stop_words:\n",
        "\n",
        "          filtered_sentence.append(word)\n",
        "  if len(filtered_sentence)==0:\n",
        "    return None\n",
        "  return modelCBow.wv.get_mean_vector(filtered_sentence)"
      ]
    },
    {
      "cell_type": "code",
      "execution_count": 14,
      "metadata": {
        "id": "zyxfQcq4CUT-"
      },
      "outputs": [],
      "source": [
        "df['sentence_embedding'] = df['text'].apply(preprocess_and_vectorize)"
      ]
    },
    {
      "cell_type": "code",
      "execution_count": 15,
      "metadata": {
        "colab": {
          "base_uri": "https://localhost:8080/"
        },
        "id": "cLj7f3BbGUos",
        "outputId": "cdb87c23-4114-44a1-b928-5a96887e1dea"
      },
      "outputs": [
        {
          "data": {
            "text/plain": [
              "label                  0\n",
              "text                   0\n",
              "label_id               0\n",
              "sentence_embedding    14\n",
              "dtype: int64"
            ]
          },
          "execution_count": 15,
          "metadata": {},
          "output_type": "execute_result"
        }
      ],
      "source": [
        "df.isnull().sum()"
      ]
    },
    {
      "cell_type": "code",
      "execution_count": 16,
      "metadata": {
        "colab": {
          "base_uri": "https://localhost:8080/"
        },
        "id": "KvJaibxCGoU-",
        "outputId": "f7d0d7df-4783-40e8-a24e-5df6eeec04c7"
      },
      "outputs": [
        {
          "data": {
            "text/plain": [
              "label                 0\n",
              "text                  0\n",
              "label_id              0\n",
              "sentence_embedding    0\n",
              "dtype: int64"
            ]
          },
          "execution_count": 16,
          "metadata": {},
          "output_type": "execute_result"
        }
      ],
      "source": [
        "df.dropna(subset=['sentence_embedding'], inplace=True)\n",
        "df.isnull().sum()"
      ]
    },
    {
      "cell_type": "code",
      "execution_count": 17,
      "metadata": {
        "colab": {
          "base_uri": "https://localhost:8080/"
        },
        "id": "2dJpXrw7Hkhl",
        "outputId": "29b99656-00c5-4ef2-ee79-15a9386e5a1c"
      },
      "outputs": [
        {
          "name": "stdout",
          "output_type": "stream",
          "text": [
            "<class 'pandas.core.frame.DataFrame'>\n",
            "Int64Index: 99985 entries, 0 to 99998\n",
            "Data columns (total 4 columns):\n",
            " #   Column              Non-Null Count  Dtype \n",
            "---  ------              --------------  ----- \n",
            " 0   label               99985 non-null  object\n",
            " 1   text                99985 non-null  object\n",
            " 2   label_id            99985 non-null  int64 \n",
            " 3   sentence_embedding  99985 non-null  object\n",
            "dtypes: int64(1), object(3)\n",
            "memory usage: 3.8+ MB\n"
          ]
        }
      ],
      "source": [
        "df.info()"
      ]
    },
    {
      "cell_type": "code",
      "execution_count": 18,
      "metadata": {
        "id": "MjpIB-lxJ3HD"
      },
      "outputs": [],
      "source": [
        "X_train, X_test, y_train, y_test = train_test_split(df['sentence_embedding'].values, df['label_id'], test_size=0.1, stratify=df['label_id'], random_state=42)"
      ]
    },
    {
      "cell_type": "code",
      "execution_count": 19,
      "metadata": {
        "colab": {
          "base_uri": "https://localhost:8080/"
        },
        "id": "fC5tNvVQKLyZ",
        "outputId": "eb95df4d-9fc7-4b9f-fe72-f4f73bfea873"
      },
      "outputs": [
        {
          "data": {
            "text/plain": [
              "((89986,), (9999,), (89986,), (9999,))"
            ]
          },
          "execution_count": 19,
          "metadata": {},
          "output_type": "execute_result"
        }
      ],
      "source": [
        "X_train.shape, X_test.shape, y_train.shape, y_test.shape"
      ]
    },
    {
      "cell_type": "code",
      "execution_count": 20,
      "metadata": {
        "id": "KAGMSdVAKPK-"
      },
      "outputs": [],
      "source": [
        "X_train = np.stack(X_train)\n",
        "X_test =  np.stack(X_test)"
      ]
    },
    {
      "cell_type": "code",
      "execution_count": 21,
      "metadata": {
        "colab": {
          "base_uri": "https://localhost:8080/"
        },
        "id": "w5nMlCRpKa5F",
        "outputId": "64f94fc6-7b1d-4da0-b310-74ca914ea18d"
      },
      "outputs": [
        {
          "data": {
            "text/plain": [
              "((89986, 300), (9999, 300))"
            ]
          },
          "execution_count": 21,
          "metadata": {},
          "output_type": "execute_result"
        }
      ],
      "source": [
        "X_train.shape, X_test.shape"
      ]
    },
    {
      "cell_type": "code",
      "execution_count": 22,
      "metadata": {
        "id": "VW7b-H5baz51"
      },
      "outputs": [],
      "source": [
        "def get_accuracy(name, trained_model , x_train, y_train, x_test, y_test):\n",
        "    tree_predict = trained_model.predict(x_test)\n",
        "    print(\"Testing accuracy   :\",metrics.accuracy_score(y_test, tree_predict)*100 , \"%\")\n",
        "    print(\"MSE [TEST]          :\",mean_squared_error(y_test, tree_predict))\n",
        "\n",
        "\n",
        "    tree_predict1 = trained_model.predict(x_train)\n",
        "    print(\"Training accuracy  :\",metrics.accuracy_score(y_train, tree_predict1)*100 ,\"%\")\n",
        "    print(\"MSE [TRAIN]         :\",mean_squared_error(y_train, tree_predict1))\n",
        "\n",
        "    print(\"precision : \",precision_score(y_test, tree_predict,average='micro'))\n",
        "    print(\"recall    : \",recall_score(y_test, tree_predict,average='micro'))\n",
        "    print(\"f1_score  : \",f1_score(y_test, tree_predict,average='micro'))\n",
        "\n",
        "\n",
        "    cf1 = confusion_matrix(y_test,tree_predict)\n",
        "    sns.heatmap(cf1,annot=True,fmt = '.0f')\n",
        "    plt.xlabel('prediction')\n",
        "    plt.ylabel('Actual')\n",
        "    plt.title(name+ ' Confusion Matrix')\n",
        "    plt.show()\n",
        "\n",
        "    print(classification_report(y_train,  trained_model.predict(X_train)))\n",
        "    print(classification_report(y_test,  trained_model.predict(X_test)))"
      ]
    },
    {
      "cell_type": "code",
      "execution_count": 23,
      "metadata": {
        "colab": {
          "base_uri": "https://localhost:8080/",
          "height": 941
        },
        "id": "lbGpeYG1Lt_Y",
        "outputId": "b7420253-00cc-4d83-fb22-d72948e4c2da"
      },
      "outputs": [
        {
          "name": "stdout",
          "output_type": "stream",
          "text": [
            "Testing accuracy   : 56.14561456145615 %\n",
            "MSE [TEST]          : 0.8435843584358436\n",
            "Training accuracy  : 56.5832462827551 %\n",
            "MSE [TRAIN]         : 0.8241281977196453\n",
            "precision :  0.5614561456145615\n",
            "recall    :  0.5614561456145615\n",
            "f1_score  :  0.5614561456145615\n"
          ]
        },
        {
          "data": {
            "image/png": "[encoded data removed]",
            "text/plain": [
              "<Figure size 640x480 with 2 Axes>"
            ]
          },
          "metadata": {},
          "output_type": "display_data"
        },
        {
          "name": "stdout",
          "output_type": "stream",
          "text": [
            "              precision    recall  f1-score   support\n",
            "\n",
            "           0       0.58      0.73      0.65     29995\n",
            "           1       0.53      0.79      0.63     29996\n",
            "           2       0.70      0.17      0.28     29995\n",
            "\n",
            "    accuracy                           0.57     89986\n",
            "   macro avg       0.60      0.57      0.52     89986\n",
            "weighted avg       0.60      0.57      0.52     89986\n",
            "\n",
            "              precision    recall  f1-score   support\n",
            "\n",
            "           0       0.57      0.74      0.64      3333\n",
            "           1       0.53      0.78      0.63      3333\n",
            "           2       0.70      0.17      0.27      3333\n",
            "\n",
            "    accuracy                           0.56      9999\n",
            "   macro avg       0.60      0.56      0.51      9999\n",
            "weighted avg       0.60      0.56      0.51      9999\n",
            "\n"
          ]
        }
      ],
      "source": [
        "trained_clf_sgd = SGDClassifier(loss='hinge', alpha=0.001, random_state=42).fit(X_train, y_train)\n",
        "get_accuracy('SGDClassifier',trained_clf_sgd,X_train, y_train, X_test, y_test)\n"
      ]
    },
    {
      "cell_type": "code",
      "execution_count": 24,
      "metadata": {
        "colab": {
          "base_uri": "https://localhost:8080/",
          "height": 941
        },
        "id": "rIFFd0m0XCUS",
        "outputId": "7b22ac6e-97c0-4319-f88f-988353145762"
      },
      "outputs": [
        {
          "name": "stdout",
          "output_type": "stream",
          "text": [
            "Testing accuracy   : 56.82568256825683 %\n",
            "MSE [TEST]          : 0.9336933693369337\n",
            "Training accuracy  : 99.927766541462 %\n",
            "MSE [TRAIN]         : 0.0011557353366079169\n",
            "precision :  0.5682568256825683\n",
            "recall    :  0.5682568256825683\n",
            "f1_score  :  0.5682568256825683\n"
          ]
        },
        {
          "data": {
            "image/png": "[encoded data removed]",
            "text/plain": [
              "<Figure size 640x480 with 2 Axes>"
            ]
          },
          "metadata": {},
          "output_type": "display_data"
        },
        {
          "name": "stdout",
          "output_type": "stream",
          "text": [
            "              precision    recall  f1-score   support\n",
            "\n",
            "           0       1.00      1.00      1.00     29995\n",
            "           1       1.00      1.00      1.00     29996\n",
            "           2       1.00      1.00      1.00     29995\n",
            "\n",
            "    accuracy                           1.00     89986\n",
            "   macro avg       1.00      1.00      1.00     89986\n",
            "weighted avg       1.00      1.00      1.00     89986\n",
            "\n",
            "              precision    recall  f1-score   support\n",
            "\n",
            "           0       0.59      0.67      0.62      3333\n",
            "           1       0.60      0.60      0.60      3333\n",
            "           2       0.50      0.44      0.47      3333\n",
            "\n",
            "    accuracy                           0.57      9999\n",
            "   macro avg       0.56      0.57      0.56      9999\n",
            "weighted avg       0.56      0.57      0.56      9999\n",
            "\n"
          ]
        }
      ],
      "source": [
        "trained_clf_random_forest = RandomForestClassifier().fit(X_train, y_train)\n",
        "get_accuracy('RandomForestClassifier',trained_clf_random_forest,X_train, y_train, X_test, y_test)"
      ]
    },
    {
      "cell_type": "code",
      "execution_count": 25,
      "metadata": {
        "colab": {
          "base_uri": "https://localhost:8080/",
          "height": 941
        },
        "id": "_SGxaPgbXDlY",
        "outputId": "1e803175-dc49-4689-c98f-ab40aaca61bc"
      },
      "outputs": [
        {
          "name": "stdout",
          "output_type": "stream",
          "text": [
            "Testing accuracy   : 60.68606860686069 %\n",
            "MSE [TEST]          : 0.8638863886388639\n",
            "Training accuracy  : 61.78961171737826 %\n",
            "MSE [TRAIN]         : 0.8359411464005512\n",
            "precision :  0.6068606860686069\n",
            "recall    :  0.6068606860686069\n",
            "f1_score  :  0.6068606860686069\n"
          ]
        },
        {
          "data": {
            "image/png": "[encoded data removed]",
            "text/plain": [
              "<Figure size 640x480 with 2 Axes>"
            ]
          },
          "metadata": {},
          "output_type": "display_data"
        },
        {
          "name": "stdout",
          "output_type": "stream",
          "text": [
            "              precision    recall  f1-score   support\n",
            "\n",
            "           0       0.63      0.73      0.67     29995\n",
            "           1       0.65      0.68      0.66     29996\n",
            "           2       0.57      0.45      0.50     29995\n",
            "\n",
            "    accuracy                           0.62     89986\n",
            "   macro avg       0.61      0.62      0.61     89986\n",
            "weighted avg       0.61      0.62      0.61     89986\n",
            "\n",
            "              precision    recall  f1-score   support\n",
            "\n",
            "           0       0.61      0.73      0.67      3333\n",
            "           1       0.64      0.66      0.65      3333\n",
            "           2       0.55      0.43      0.48      3333\n",
            "\n",
            "    accuracy                           0.61      9999\n",
            "   macro avg       0.60      0.61      0.60      9999\n",
            "weighted avg       0.60      0.61      0.60      9999\n",
            "\n"
          ]
        }
      ],
      "source": [
        "trained_clf_svc = LinearSVC().fit(X_train, y_train)\n",
        "get_accuracy('LinearSVC',trained_clf_svc,X_train, y_train, X_test, y_test)"
      ]
    },
    {
      "cell_type": "code",
      "execution_count": 26,
      "metadata": {
        "id": "UDjQZdfyYBus"
      },
      "outputs": [],
      "source": [
        "examples=[\"خدمة العملاء ممتازة، والشحن سريع جداً. سعيد جداً بتجربتي.\",\"المنتج لا يعمل بشكل جيد، ولاحظت العديد من المشاكل. أنا غير راضٍ.\"\n",
        ",\"بدأت جيدًا، لكن بعد فترة وجدت بعض المشاكل. يبدو أنه يحتاج إلى تحسين.\"]\n",
        "\n",
        "examples_vextors=[preprocess_and_vectorize(example) for example in examples]\n"
      ]
    },
    {
      "cell_type": "code",
      "execution_count": 27,
      "metadata": {
        "colab": {
          "base_uri": "https://localhost:8080/"
        },
        "id": "sWijO5Wk7OCy",
        "outputId": "73b462d4-076e-46c2-ad61-ab3c70c45815"
      },
      "outputs": [
        {
          "data": {
            "text/plain": [
              "array([1, 0, 0])"
            ]
          },
          "execution_count": 27,
          "metadata": {},
          "output_type": "execute_result"
        }
      ],
      "source": [
        "trained_clf_sgd.predict(examples_vextors)"
      ]
    },
    {
      "cell_type": "code",
      "execution_count": 28,
      "metadata": {
        "colab": {
          "base_uri": "https://localhost:8080/"
        },
        "id": "URl5uqPi7YPo",
        "outputId": "446cb139-cade-4171-c994-8f6e550c70cc"
      },
      "outputs": [
        {
          "data": {
            "text/plain": [
              "array([1, 0, 0])"
            ]
          },
          "execution_count": 28,
          "metadata": {},
          "output_type": "execute_result"
        }
      ],
      "source": [
        "trained_clf_random_forest.predict(examples_vextors)"
      ]
    },
    {
      "cell_type": "code",
      "execution_count": 29,
      "metadata": {
        "colab": {
          "base_uri": "https://localhost:8080/"
        },
        "id": "PUqDvqCD6yEW",
        "outputId": "ddc9bbb7-61db-49b6-c13e-96895e63bf6a"
      },
      "outputs": [
        {
          "data": {
            "text/plain": [
              "array([1, 0, 2])"
            ]
          },
          "execution_count": 29,
          "metadata": {},
          "output_type": "execute_result"
        }
      ],
      "source": [
        "trained_clf_svc.predict(examples_vextors)"
      ]
    }
  ],
  "metadata": {
    "accelerator": "GPU",
    "colab": {
      "gpuType": "T4",
      "provenance": []
    },
    "kernelspec": {
      "display_name": "Python 3",
      "name": "python3"
    },
    "language_info": {
      "name": "python"
    }
  },
  "nbformat": 4,
  "nbformat_minor": 0
}
